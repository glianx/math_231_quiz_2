{
 "cells": [
  {
   "cell_type": "markdown",
   "metadata": {},
   "source": [
    "# 3\n",
    "\n",
    "sources: \n",
    "\n",
    "my notes on likelihood, metro-hastings\n",
    "\n",
    "codeium fast on \\because symbol\n",
    "\n",
    "https://www.freecodecamp.org/news/sort-dictionary-by-value-in-python/\n",
    "\n",
    "claude 3.5 sonnet:\n",
    "why conditional for (q,u) is greater than 1, appears miscount number of qs in emma.txt\n",
    "\n",
    "the number of characters is off by much more than 1, chararray[q] should be 1296 not 375\n",
    "\n",
    "---\n",
    "\n",
    "**1**\n",
    "How many possible codebooks are there given that each codebook is a permutation of the letters A to Z?\n",
    "\n",
    "\n",
    "There there are 26! (factorial) possible codebooks. nPr = 26 P 26 = 26!/(26-26)! = 26!/0! = 26!\n",
    "\n",
    "\n",
    "**2**\n",
    "Would it be feasible to calculate $\\pi(B)$ directly for a code book $B$ applied to an encrypted text $C$? \n",
    "\n",
    "\n",
    "Explain the different difficulties that might exist.\n",
    "\n",
    "\n",
    "\n",
    "No, it would be infeasible to calculate $\\pi(B)$ directly for a code book $B$ applied to an encrypted text $C$, because one must consider all of the many other potential code books which could have been applied and evaluate the probability that they were used. \n",
    "\n",
    "By Baye's,\n",
    "\n",
    "$P(\\lambda|D) = P(D|\\lambda) * \\frac{P(\\lambda)}{P(D)}$\n",
    "\n",
    "$P(B|C) = P(C|B) * \\frac{P(B)}{P(C)}$\n",
    "\n",
    "so\n",
    "\n",
    "$\\pi(B)=\\frac{1}{Z} e^{l(A_B)} = \\frac{1}{Z}P(A_B) = \\frac{1}{Z}P(A|B) = \\frac{P(B)}{P(A)}*P(A|B)$\n",
    "\n",
    "$P(A|B) = P(B^{-1}(A))$ because the probability that the cipher appears for the code book is the chance that its plaintext appears in English.\n",
    "\n",
    "$P(B)$ is just the prior probablity that the codebook is used, ie $1/26!$\n",
    "\n",
    "$P(A)$ is difficult the determine because it is equal to the dot product of all of the probabilities of the codebooks and the probabilities of their decoded text. This is what makes the conditional difficult to solve.\n",
    "\n",
    "**3**\n",
    "\n",
    "Show that the sample “swap chain” on codebooks is a symmetric Markov Chain. That is to say, if \n",
    "$T$ is the Markov transition matrix for the swap chain and $B$ and $B'$ are two possible codebooks then $T(B, B')=T(B', B)$. Don’t try to write down $T$ as it is huge. Just argue directly. What is the probability of proposing any particular “swap” given a codebook $B$?\n",
    "\n",
    "Case 1: $B$ can reach $B'$ in exactly one swap. Let $a$, $b$ be the characters which must be swapped to reach from $B$ to $B'$, or from $B'$ to $B$. Note that the swapping is symmetric, and swapping twice results in the same codebook. Then the chance the the unordered pair $(a,b)$ is chosen is\n",
    "\n",
    "$T(B,B') = \\frac{1}{26 \\choose 2} = \\frac{1}{325}= T(B',B)$\n",
    "\n",
    "Case 2: $B$ cannot reach $B'$ in exactly one swap. Either $B = B'$, or $B'$ is 'far' from $B$ in terms of swaps needed. Then\n",
    "\n",
    "$T(B,B') = 0 = T(B',B)$\n",
    "\n",
    "**4**\n",
    "\n",
    "We will use a Metropolis-Hastings MCMC algorithm to sample from the $\\pi$ defined above. What is the acceptance probability if we use a proposal of the simple swap chain? Please simplify your expression using that the proposal chain is symmetric. Explain.\n",
    "\n",
    "$\\alpha(B,B') = min(1,\\frac{\\pi(B')T(B',B)}{\\pi(B)T(B,B')}) = min(1,\\frac{\\pi(B')}{\\pi(B)}) = min(1,e^{l(A_{B'})-l(A_B)})$\n",
    "\n",
    "$\\because T(B',B) = T(B,B')$"
   ]
  },
  {
   "cell_type": "code",
   "execution_count": 66,
   "metadata": {},
   "outputs": [
    {
     "name": "stdout",
     "output_type": "stream",
     "text": [
      "{'A': 'G', 'B': 'I', 'C': 'X', 'D': 'O', 'E': 'J', 'F': 'B', 'G': 'E', 'H': 'M', 'I': 'K', 'J': 'A', 'K': 'T', 'L': 'Q', 'M': 'L', 'N': 'P', 'O': 'V', 'P': 'D', 'Q': 'C', 'R': 'N', 'S': 'Y', 'T': 'S', 'U': 'W', 'V': 'Z', 'W': 'R', 'X': 'H', 'Y': 'U', 'Z': 'F'}\n"
     ]
    }
   ],
   "source": [
    "import random as rnd\n",
    "def randomCodeBook(): \n",
    "    alpha = [chr(c) for c in range(ord('A'), ord('A')+26)]  # create list A-Z\n",
    "    alpha2 = alpha.copy()  # Start with every letter mapping to itself\n",
    "    rnd.shuffle(alpha2)  # shuffle letter around to create a random permutation\n",
    "    codeBook = {a: code for a, code in zip(alpha, alpha2)}  # Make a dictionary\n",
    "    return codeBook\n",
    "codebook = randomCodeBook()\n",
    "print(codebook)"
   ]
  },
  {
   "cell_type": "code",
   "execution_count": 67,
   "metadata": {},
   "outputs": [
    {
     "name": "stdout",
     "output_type": "stream",
     "text": [
      "Original Text: IN THE LAND OF THE BLIND, THE ONE EYED PERSON IS KING\n",
      "Encrypted Text: KP SMJ QGPO VB SMJ IQKPO SMJ VPJ JUJO DJNYVP KY TKPE\n"
     ]
    }
   ],
   "source": [
    "# make sure the character is in the range we expect. Just a double-check.\n",
    "def okChar(c):  \n",
    "    if ((('A' <= c) and (c <= 'Z')) or (c == ' ')):\n",
    "        return True\n",
    "    return False\n",
    "def applyCodeBook(text, code_book):\n",
    "    out = []\n",
    "    for c in text:\n",
    "        if c == ' ':  # just keep spaces as spaces\n",
    "            out.append(' ')\n",
    "        elif okChar(c):  # if not ok, we just skip it.\n",
    "            out.append(code_book[c])\n",
    "    s = \"\"\n",
    "    return s.join(out)\n",
    "    \n",
    "text = \"in the land of the blind, the one eyed person is king\"\n",
    "text = text.upper()  # make upper case\n",
    "\n",
    "encrypted_text = applyCodeBook(text, codebook)\n",
    "print(f\"Original Text: {text}\")\n",
    "print(f\"Encrypted Text: {encrypted_text}\")"
   ]
  },
  {
   "cell_type": "code",
   "execution_count": 68,
   "metadata": {},
   "outputs": [
    {
     "name": "stdout",
     "output_type": "stream",
     "text": [
      "decoded Text: IN THE LAND OF THE BLIND THE ONE EYED PERSON IS KING\n"
     ]
    }
   ],
   "source": [
    "def invert_code_book(codeBook):\n",
    "    # Switch the order to make inverse mapping\n",
    "    inverted_book = {i[1]: i[0] for i in codeBook.items()}  \n",
    "    return inverted_book\n",
    "\n",
    "\n",
    "inverted_codebook = invert_code_book(codebook)\n",
    "decoded_text = applyCodeBook(encrypted_text, inverted_codebook)\n",
    "print(f\"decoded Text: {decoded_text}\")"
   ]
  },
  {
   "cell_type": "code",
   "execution_count": 69,
   "metadata": {},
   "outputs": [],
   "source": [
    "import copy\n",
    "\n",
    "def randSwapInCodeBook(codebook):\n",
    "    codebook_2 = copy.deepcopy(codebook)\n",
    "    o = rnd.sample([k for k in codebook_2], k=2)\n",
    "    codebook_2[o[0]], codebook_2[o[1]] = codebook_2[o[1]], codebook_2[o[0]]\n",
    "    return codebook_2"
   ]
  },
  {
   "cell_type": "code",
   "execution_count": 70,
   "metadata": {},
   "outputs": [
    {
     "name": "stdout",
     "output_type": "stream",
     "text": [
      "decoded Text with corrupted codebook: \n",
      "IN THE LAND OF THE BLIND THE ONE EYED PERSON IS KING\n"
     ]
    }
   ],
   "source": [
    "num_swaps = 2\n",
    "for k in range(num_swaps):\n",
    "    randSwapInCodeBook(inverted_codebook)\n",
    "decoded_text = applyCodeBook(encrypted_text, inverted_codebook)\n",
    "print(f\"decoded Text with corrupted codebook: \\n{decoded_text}\")"
   ]
  },
  {
   "cell_type": "code",
   "execution_count": 71,
   "metadata": {},
   "outputs": [],
   "source": [
    "def cleanText(text):\n",
    "    text = text.upper()\n",
    "    makeSpacesChar = [',', '!', '?', ';', '.', ':']  # characters to spaces\n",
    "    for i in range(10):\n",
    "        makeSpacesChar.append(str(i))  # add all of the numbers to the list\n",
    "    for c in makeSpacesChar:\n",
    "        text = text.replace(c, ' ')  # Replace each characters with a space\n",
    "    text = ' '.join(text.split())  # Remove extra spaces \n",
    "    # Remove all characters who are not A-Z or Space:\n",
    "    onlyGoodChar = [c for c in text if ((c <= 'Z') and (c >= 'A')) \n",
    "                    or (c == ' ')] \n",
    "    text = ''.join(onlyGoodChar)\n",
    "    return text"
   ]
  },
  {
   "cell_type": "code",
   "execution_count": 72,
   "metadata": {},
   "outputs": [],
   "source": [
    "def getCharCountsArray(text):\n",
    "    char_counts_array = [0 for _ in range(256)]\n",
    "    for i in range(len(text)-1):\n",
    "        char_code = ord(text[i])\n",
    "        char_counts_array[char_code] += 1\n",
    "    return char_counts_array\n",
    "\n",
    "def addPairCounts(pair_dict, text): \n",
    "    for i in range(len(text)-1):\n",
    "        c1 = text[i]\n",
    "        c2 = text[i+1]\n",
    "        if (okChar(c1) and okChar(c2)):\n",
    "            key = (c1, c2)\n",
    "            if key in pair_dict:  # if key=(c1,c2) is already there\n",
    "                pair_dict[key] += 1  # if it is add \n",
    "            else:\n",
    "                pair_dict[key] = 1\n",
    "\n",
    "def convertToConditional(pair_dict, text):\n",
    "    char_counts_array = getCharCountsArray(text);\n",
    "    for key in pair_dict.keys():\n",
    "        c1 = key[0]\n",
    "        c1_code = ord(c1)\n",
    "        pair_dict[key] = pair_dict[key] / char_counts_array[c1_code]"
   ]
  },
  {
   "cell_type": "code",
   "execution_count": 73,
   "metadata": {},
   "outputs": [],
   "source": [
    "def get_pair_dict_and_text(directory, fileNames):\n",
    "    pair_dict = {}  # initialize empty pair dictionary\n",
    "    all_text = \"\"\n",
    "    for fileName in fileNames:  # cycle over the file names\n",
    "        with open(directory+fileName, 'r') as file:\n",
    "            text = file.read().replace('\\n', '')\n",
    "        text = cleanText(text)\n",
    "        all_text += text\n",
    "        addPairCounts(pair_dict, text)  # add the counts for the current file\n",
    "    return (pair_dict, all_text)\n"
   ]
  },
  {
   "cell_type": "code",
   "execution_count": 77,
   "metadata": {},
   "outputs": [],
   "source": [
    "import math\n",
    "import numpy as np\n",
    "import matplotlib.pyplot as plt\n",
    "\n",
    "def log_likelihood(text, pair_dict):\n",
    "    # return math.log(prob_of_text(text, pair_dict))\n",
    "    logsum = 0\n",
    "    for i in range(0, len(text)-2):\n",
    "        logsum += math.log(max(pair_dict.get((text[i], text[i+1]), math.e ** -16), math.e**-16))\n",
    "    return logsum\n",
    "\n",
    "def likelihood_ratio(text, codebook_b1, codebook_b2, pair_dict):\n",
    "    decodebook_b1 = invert_code_book(codebook_b1)\n",
    "    decodebook_b2 = invert_code_book(codebook_b2)\n",
    "\n",
    "    decoded_text_b1 = applyCodeBook(text, decodebook_b1)\n",
    "    decoded_text_b2 = applyCodeBook(text, decodebook_b2)\n",
    "\n",
    "    ll1 = log_likelihood(decoded_text_b1, pair_dict)\n",
    "    ll2 = log_likelihood(decoded_text_b2, pair_dict)\n",
    "\n",
    "    diff = ll1 - ll2\n",
    "\n",
    "    if diff > 700:  # log(max float) is around 709\n",
    "        return float('inf')\n",
    "    elif diff < -700:\n",
    "        return 0.0\n",
    "    else:\n",
    "        return float(np.exp(diff))\n",
    "\n",
    "def run_mcmc(encoded_text, curr_codebook):\n",
    "    max_log_likelihood = -float('inf')\n",
    "    max_log_likelihoods = []\n",
    "    mkv_steps = []\n",
    "\n",
    "    for i in range(10_000):\n",
    "        prop_codebook = randSwapInCodeBook(curr_codebook)\n",
    "        decoded_prop_codebook = applyCodeBook(encoded_text, prop_codebook)\n",
    "        if (log_likelihood(decoded_prop_codebook, pair_dict) > max_log_likelihood):\n",
    "            curr_codebook = prop_codebook\n",
    "            max_log_likelihood = log_likelihood(applyCodeBook(encoded_text, curr_codebook), pair_dict)\n",
    "            \n",
    "            max_log_likelihoods.append(max_log_likelihood)\n",
    "            mkv_steps.append(i)\n",
    "            # print(i, max_log_likelihood, applyCodeBook(encoded_text, curr_codebook))\n",
    "    # plt.plot(mkv_steps, max_log_likelihoods)\n",
    "    # plt.show()\n",
    "    \n",
    "    decoded_text = applyCodeBook(encoded_text, curr_codebook)\n",
    "    print(len(decoded_text),decoded_text)\n",
    "    return decoded_text"
   ]
  },
  {
   "cell_type": "code",
   "execution_count": 79,
   "metadata": {},
   "outputs": [
    {
     "name": "stdout",
     "output_type": "stream",
     "text": [
      "[(('Q', 'U'), 0.9992283950617284), (('V', 'E'), 0.7654331300643221), (('Y', ' '), 0.6953170327393287), (('Z', 'E'), 0.58656330749354), (('D', ' '), 0.5807258524597358), (('H', 'E'), 0.4199624800098413), (('B', 'E'), 0.4060287871637565), (('F', ' '), 0.363439420198519), (('S', ' '), 0.3560491856581242), (('G', ' '), 0.34802579687282514), (('E', ' '), 0.32282194297950534), (('K', ' '), 0.2973677352097993), (('K', 'E'), 0.2971071149335418), (('T', 'H'), 0.28602858002718945), (('J', 'E'), 0.27728613569321536), (('T', ' '), 0.2678573281721858), (('I', 'N'), 0.2590313696513737), (('J', 'U'), 0.2536873156342183), (('J', 'O'), 0.24424778761061947), (('R', ' '), 0.2393053404985275), (('R', 'E'), 0.22564289400977625), (('W', 'A'), 0.22487782529016492), (('N', ' '), 0.22476574387997544), (('J', 'A'), 0.2224188790560472), (('C', 'O'), 0.21141633704684834), (('M', 'E'), 0.2110009017132552), (('P', 'E'), 0.20367398882310628), (('A', 'N'), 0.19717856074379214), (('X', 'P'), 0.19574844995571303), (('W', 'E'), 0.18971441661576055), (('H', 'A'), 0.18898388485668594), (('X', 'T'), 0.18113374667847654), (('C', 'H'), 0.1791196429219436), (('L', 'E'), 0.17636990157879326), (('C', 'E'), 0.17287803461915302), (('K', 'N'), 0.1667969768047954), (('N', 'D'), 0.1652206412344163), (('G', 'H'), 0.16085927713079387), (('W', 'H'), 0.16050702504581552), (('F', 'O'), 0.15763352765085867), (('P', 'R'), 0.15736181043545622), (('M', 'A'), 0.15435398686074972), (('W', 'I'), 0.1543219303604154), (('X', 'C'), 0.15411868910540302), (('U', 'R'), 0.15274015419879142), (('O', 'U'), 0.15148237838854536), (('L', 'L'), 0.1481047724150357), (('E', 'R'), 0.146942436935275), (('O', 'N'), 0.1429360731667176), (('X', ' '), 0.14127546501328608), (('Y', 'O'), 0.1408619975134687), (('L', ' '), 0.13812751965045833), (('O', ' '), 0.13795170808548657), (('B', 'U'), 0.1378598395469561), (('I', 'T'), 0.13590380869214752), ((' ', 'T'), 0.13459159464497542), (('U', 'T'), 0.13359926175096), (('H', 'I'), 0.13136609669085988), (('A', 'T'), 0.13071594596460542), (('U', 'S'), 0.12898520525109397), (('B', 'L'), 0.125943841434639), (('K', 'I'), 0.12561897315611154), (('P', 'O'), 0.1249377524484037), (('U', 'L'), 0.12481767034798917), (('N', 'G'), 0.12454950746149122), (('D', 'E'), 0.1243033308465353), (('V', 'I'), 0.1223790827833932), (('S', 'T'), 0.1207324643078833), (('I', 'S'), 0.11736414321219857), (('G', 'E'), 0.11571474968681854), (('M', ' '), 0.11561252093262914), (('T', 'O'), 0.11528522950156184), (('S', 'E'), 0.11356448227956607), (('P', 'L'), 0.11232224865821944), (('P', 'A'), 0.11210092403032147), ((' ', 'A'), 0.11169293340111845), (('W', 'O'), 0.10934636530238241), (('A', 'S'), 0.1071617609831312), (('U', 'N'), 0.10600422707111601), (('O', 'R'), 0.10375473162015376), (('O', 'F'), 0.10375473162015376), (('X', 'I'), 0.10363153232949512), (('C', 'A'), 0.10280509489421925), (('H', ' '), 0.10139623569934801), (('L', 'Y'), 0.1007634963176505), (('M', 'I'), 0.10073425222207909), (('A', 'R'), 0.10051089683105885), (('F', 'E'), 0.09709311485741295), (('B', 'O'), 0.09568192543652666), (('Z', 'O'), 0.09560723514211886), (('L', 'I'), 0.09560595482083736), (('C', 'T'), 0.0936241245418587), (('W', ' '), 0.09277642028100183), (('N', 'O'), 0.09231426359486372), (('M', 'O'), 0.09133067113229422), (('T', 'E'), 0.09093928041427549), (('X', 'A'), 0.08990256864481842), (('N', 'T'), 0.08789609973571104), (('Z', 'A'), 0.08785529715762273), (('N', 'E'), 0.08321097733521984), (('F', 'A'), 0.08247991176933984), (('L', 'D'), 0.0820477016283417), (('H', 'O'), 0.08059109361545086), (('E', 'N'), 0.08006163595720207), (('P', 'P'), 0.07840424943285564), (('G', 'R'), 0.07817937178119055), ((' ', 'W'), 0.07667768174885613), (('E', 'D'), 0.07642279951675095), ((' ', 'I'), 0.07605914251821726), (('M', 'Y'), 0.07480999613551462), (('F', 'I'), 0.07460217425555381), (('R', 'I'), 0.07446033336369433), (('D', 'I'), 0.07427480581033045), ((' ', 'H'), 0.07425436366717506), (('A', 'L'), 0.07325155915586956), (('R', 'O'), 0.07262349333576221), (('S', 'H'), 0.07182761372705507), (('L', 'A'), 0.07125965631404699), (('F', 'R'), 0.07105719237435008), ((' ', 'S'), 0.07078884934756821), (('U', ' '), 0.06989551394635787), (('Z', 'L'), 0.06976744186046512), (('T', 'I'), 0.06899056672305186), (('A', ' '), 0.0689710721929441), (('Z', 'Z'), 0.06718346253229975), (('I', ' '), 0.06648753946396184), (('L', 'O'), 0.06592193869507444), (('B', 'Y'), 0.06506606890042473), (('E', 'S'), 0.06303217078658188), ((' ', 'O'), 0.06291306558210473), (('Z', 'I'), 0.06201550387596899), (('R', 'A'), 0.06098005282812642), (('G', 'A'), 0.06064121004036561), (('M', 'R'), 0.06025376787324488), (('G', 'O'), 0.06003804574769174), (('V', 'A'), 0.05981121042519422), (('S', 'O'), 0.05930950903017942), (('O', 'T'), 0.058965979357204996), (('S', 'S'), 0.05749164967042062), (('E', 'A'), 0.05647792463340351), (('I', 'O'), 0.056236985289178476), (('X', 'E'), 0.05580159433126661), ((' ', 'M'), 0.05519827147941027), (('G', 'I'), 0.05456316986034427), (('S', 'I'), 0.05416629718305696), (('O', 'M'), 0.05407565890014812), (('R', 'Y'), 0.05386040015787716), (('K', 'S'), 0.05381808704717227), (('R', 'S'), 0.05331390229832711), (('B', 'A'), 0.053091080698442664), (('P', 'I'), 0.05212194986997178), (('A', 'D'), 0.0516189906335581), (('U', 'C'), 0.050486708540469744), (('M', 'U'), 0.050431534200695606), (('M', 'P'), 0.04969084116965091), (('R', 'T'), 0.04947323678537815), (('D', 'O'), 0.04941413964102339), (('C', 'L'), 0.04757411909859564), (('I', 'L'), 0.0459192584133808), (('U', 'G'), 0.04560473908254696), (('O', 'W'), 0.04549408694425505), (('I', 'C'), 0.045435614966077786), (('N', 'C'), 0.04515603726741237), ((' ', 'B'), 0.04515336383663786), (('M', 'M'), 0.04498905062475847), (('V', 'O'), 0.0446078021886225), (('S', 'U'), 0.04441192988679022), (('S', 'A'), 0.04421979840974254), (('C', 'I'), 0.04376383496026418), (('I', 'E'), 0.0436488211190972), (('E', 'L'), 0.04350688340531429), (('Y', 'S'), 0.04268545379196022), (('P', ' '), 0.04232833508548664), (('U', 'P'), 0.04170511713749889), (('N', 'S'), 0.041498705251074505), (('F', 'T'), 0.04060973688356704), (('P', 'T'), 0.0404470757483539), (('F', 'F'), 0.03954624231920592), (('I', 'D'), 0.03926916101296433), (('I', 'M'), 0.0391751192315443), (('A', 'I'), 0.0383287690147976), (('H', 'T'), 0.03827346537089433), (('B', 'R'), 0.037576687116564415), (('Y', 'E'), 0.0373394115209283), ((' ', 'C'), 0.03692594475512625), (('G', 'U'), 0.036607432839975876), (('T', 'A'), 0.036601944770187106), (('F', 'U'), 0.036119426500709), (('C', 'R'), 0.035744094059585584), (('O', 'O'), 0.035736957186184845), (('I', 'G'), 0.03572244239940888), ((' ', 'F'), 0.034820369428910355), (('W', 'N'), 0.03428527794746487), (('C', 'U'), 0.034219980404253), (('I', 'R'), 0.03376099952979109), (('D', 'A'), 0.03363760038618511), (('A', 'V'), 0.03300117368190919), (('C', 'K'), 0.03229669412490474), (('N', 'I'), 0.0310205825035372), (('E', 'E'), 0.030854149937423588), (('A', 'Y'), 0.02975628840356247), (('U', 'I'), 0.029589497812044174), (('A', 'C'), 0.029100407336662602), (('E', 'T'), 0.028720041090638134), (('R', 'R'), 0.028433069192701218), ((' ', 'N'), 0.02802914760210134), ((' ', 'D'), 0.027935943060498222), (('O', 'S'), 0.02713187407424823), ((' ', 'E'), 0.02670310116929334), (('R', 'D'), 0.02603455080912044), ((' ', 'P'), 0.02567361464158617), (('U', 'A'), 0.02545173101539011), (('L', 'T'), 0.025044480980158105), (('A', 'B'), 0.024750880261431893), (('E', 'M'), 0.02473395982087954), (('D', 'S'), 0.024355992451836575), (('L', 'F'), 0.024301254476250533), (('A', 'M'), 0.024152532621453063), (('U', 'E'), 0.024022861905754176), (('E', 'C'), 0.02400329882587842), (('X', 'O'), 0.023472099202834367), (('T', 'R'), 0.023463849482674527), (('U', 'M'), 0.023070282499330217), (('O', 'L'), 0.02294688829849764), (('T', 'T'), 0.02284119093824265), (('S', 'P'), 0.022641955602849456), (('G', 'L'), 0.022641859601911566), (('O', 'D'), 0.021583241247972163), (('A', 'P'), 0.02120682116309576), (('I', 'F'), 0.020931013636058305), (('A', 'G'), 0.02093066071387476), (('G', 'S'), 0.02078596947060734), ((' ', 'L'), 0.02060667683443484), (('E', 'V'), 0.020538084800081024), (('N', 'A'), 0.020328892922929068), (('C', 'C'), 0.020285226984069385), (('M', 'S'), 0.019708875434754605), (('B', 'S'), 0.019466729589428976), (('I', 'V'), 0.01942634513333781), (('P', 'U'), 0.01942123609804681), (('B', 'I'), 0.01940773949976404), ((' ', 'R'), 0.019221318420606676), (('T', 'L'), 0.018399559987961934), (('P', 'H'), 0.018148619487633487), (('U', 'B'), 0.018039472509153692), (('N', 'Y'), 0.017125390426866706), (('B', 'T'), 0.017048135913166586), (('U', 'D'), 0.016967820676926742), (('T', 'U'), 0.01675989248762466), (('R', 'N'), 0.016698545708473754), (('T', 'S'), 0.016292898579300753), (('L', 'S'), 0.016283417040156754), (('F', 'L'), 0.016149361903261383), ((' ', 'G'), 0.015980342314861888), (('Y', 'I'), 0.015748031496062992), (('P', 'S'), 0.015658717423781332), (('D', 'R'), 0.015403519550620968), (('S', 'C'), 0.015385297508202537), (('L', 'U'), 0.015337492398819846), (('O', 'P'), 0.015294007006324502), ((' ', 'Y'), 0.01528554482291137), (('A', 'K'), 0.01523485144869169), (('X', 'S'), 0.015057573073516387), (('T', 'Y'), 0.015037203848029805), (('R', 'M'), 0.015028691137626378), (('D', 'Y'), 0.014459999122306577), (('O', 'V'), 0.014459360966778736), (('P', 'Y'), 0.01399878271454656), (('C', ' '), 0.013825888159088435), (('H', 'U'), 0.013501045639069996), (('R', 'C'), 0.013480280535567902), (('M', 'B'), 0.013364678603632616), (('N', 'K'), 0.01325449157745802), (('B', 'J'), 0.013154789995280794), (('R', 'U'), 0.013070407140905365), (('Z', ' '), 0.012919896640826873), (('Z', 'U'), 0.012919896640826873), (('D', 'U'), 0.012902093298810726), ((' ', 'U'), 0.012684290798169802), (('E', 'I'), 0.012464642518682496), (('X', 'H'), 0.012400354295837024), (('E', 'Y'), 0.011849729800117195), (('I', 'A'), 0.0115671391146638), (('N', 'L'), 0.011545956912891429), (('E', 'X'), 0.011466313634423537), (('R', 'F'), 0.011188025624677415), (('D', 'H'), 0.01081757142230219), (('O', 'K'), 0.010709331577833683), (('D', 'D'), 0.010620090402422434), (('E', 'P'), 0.010540327422936967), (('O', 'I'), 0.010274375191028143), (('E', 'F'), 0.01021478539546122), (('G', 'N'), 0.010160998468890643), (('W', 'R'), 0.010003054367745876), (('O', 'C'), 0.009980485740483859), (('A', 'F'), 0.009884242745034865), (('Y', 'T'), 0.00978035640281807), (('K', 'A'), 0.009773260359655981), (('I', 'B'), 0.009686303486263183), ((' ', 'V'), 0.0096636163362142), (('R', 'L'), 0.009624434526520327), (('L', 'K'), 0.009594378504988626), (('X', 'U'), 0.009300265721877768), (('G', 'G'), 0.009233053403238529), (('N', 'N'), 0.00921006967617929), (('A', 'W'), 0.008929187858145582), (('O', 'B'), 0.008875461406437354), (('Y', 'A'), 0.008868628263572317), (('R', 'G'), 0.008728785256702188), (('K', 'L'), 0.008600469116497263), (('A', 'U'), 0.00842289370124042), (('D', 'L'), 0.008403914512660728), (('R', 'K'), 0.008212648389349365), (('K', 'Y'), 0.008209538702111024), (('I', 'K'), 0.008181634983542688), (('W', 'S'), 0.008132254123396456), (('H', 'R'), 0.007796161889531307), (('G', 'T'), 0.007701944044912541), (('T', 'W'), 0.007399259036332126), (('S', 'M'), 0.00730099612781177), (('S', 'L'), 0.007153202683928941), (('E', 'W'), 0.007053410595307855), (('Y', 'M'), 0.006589307915457936), (('L', 'W'), 0.0065539064435485685), (('C', 'Y'), 0.006314185143520702), (('D', 'T'), 0.0062974503006099965), (('K', 'O'), 0.006254886630179828), ((' ', 'K'), 0.006244704287408914), (('N', 'U'), 0.006193438159053899), (('S', 'W'), 0.006177765954302267), (('E', 'G'), 0.0061491271856530015), (('R', 'V'), 0.006072198439445001), (('N', 'F'), 0.006046610961317708), (('Y', 'L'), 0.0060091172813924575), ((' ', ' '), 0.005782918149466192), (('O', 'A'), 0.00573672207462441), (('L', 'M'), 0.005630503817481588), (('D', 'M'), 0.0055294685566331684), (('X', 'V'), 0.005314437555358724), (('D', 'N'), 0.005310045201211217), (('D', 'G'), 0.005288102865669022), (('V', 'Y'), 0.005095647815554256), (('Y', 'R'), 0.005055946953999171), (('M', 'F'), 0.004991626948344712), (('K', 'C'), 0.0049517852488923635), (('N', 'V'), 0.004912037160628955), (('L', 'V'), 0.0049097993288439445), (('B', 'B'), 0.004837187352524776), (('Y', 'W'), 0.004807293825113966), (('W', 'L'), 0.004772449602932193), (('O', 'H'), 0.004666964474643218), (('C', 'Q'), 0.00457234096599775), (('P', 'B'), 0.004537154871908372), (('D', 'W'), 0.004520121121692193), (('U', 'F'), 0.004494984074063049), (('R', 'P'), 0.0044934268451893005), (('D', 'V'), 0.0044762364506078026), (('K', 'F'), 0.004300234558248631), (('L', 'C'), 0.004189094840206302), ((' ', 'J'), 0.0041348923911201495), (('X', 'Q'), 0.003985828166519044), (('S', 'K'), 0.0039608642960598265), (('O', 'Y'), 0.0038558295911409963), (('Y', 'B'), 0.0038541234977206794), (('Y', 'C'), 0.0038126813095731454), (('H', 'Y'), 0.0037827531061631198), (('F', 'S'), 0.0037813140066172996), (('O', 'G'), 0.003773540544988597), (('S', 'F'), 0.003739174130235583), (('Y', 'P'), 0.003688354745130543), (('K', 'W'), 0.0036486838676048996), (('R', 'H'), 0.003643319063667001), (('G', 'M'), 0.003526191249478031), (('T', 'C'), 0.003486887848818505), (('Y', 'F'), 0.003481143804392872), (('I', 'P'), 0.00345267683213542), (('T', 'F'), 0.003372733782339328), (('N', 'B'), 0.0033369817667316267), (('E', 'O'), 0.003298825878420904), (('S', 'N'), 0.003295793798587095), (('R', 'W'), 0.0032941676533989133), (('A', 'X'), 0.0032563919637309275), (('F', 'H'), 0.0032298723806522766), (('O', 'E'), 0.003068205863682317), (('D', 'B'), 0.0030280423048229255), (('H', 'B'), 0.0030139008488128923), (('K', 'J'), 0.0029971331769611674), (('Y', 'D'), 0.002859510982179859), (('I', 'X'), 0.00284812252300665), (('I', 'Z'), 0.0028346879828037887), ((' ', 'Q'), 0.0028088459583121505), (('F', 'Y'), 0.0027572081298251143), (('E', 'H'), 0.0027128502289645593), (('S', 'Y'), 0.0026602819898909284), (('H', 'M'), 0.0026602288104317874), (('X', 'D'), 0.002657218777679362), (('K', 'T'), 0.0026062027625749283), (('B', ' '), 0.0025955639452571967), (('Z', 'Y'), 0.002583979328165375), (('Z', 'B'), 0.002583979328165375), (('L', 'P'), 0.002567509740771604), (('L', 'R'), 0.0025449877255016777), (('M', 'N'), 0.0025441195414144017), (('O', 'J'), 0.0025392048527026075), (('N', 'W'), 0.002509410288582183), (('N', 'H'), 0.0024693665073814036), (('Y', 'H'), 0.0024450891007045173), (('D', 'F'), 0.0023917145740992673), (('H', 'S'), 0.0023526879074916964), (('K', 'H'), 0.0023455824863174357), (('P', 'W'), 0.0023239085929286783), (('T', 'M'), 0.002303836614397941), (('G', 'Y'), 0.002227068157565072), (('E', 'Q'), 0.0021558116486171696), (('S', 'B'), 0.002143004936301026), (('R', 'B'), 0.002140449949904363), (('W', 'F'), 0.00202351863164325), (('F', 'C'), 0.00196943437844651), (('F', 'M'), 0.00193004569087758), (('E', 'B'), 0.0018809094920820945), (('G', 'D'), 0.0018558901313042268), (('W', 'W'), 0.0018326206475259622), (('G', 'W'), 0.0018094928780216211), (('M', 'L'), 0.0018034265103697023), (('Y', 'U'), 0.00178201409034397), (('X', 'F'), 0.001771479185119575), (('W', 'B'), 0.0017180818570555895), (('H', 'N'), 0.0016607208758764916), (('M', 'T'), 0.0016424062862295504), (('V', 'U'), 0.0015871689917300142), (('L', 'N'), 0.0015540190536249183), (('D', 'P'), 0.0015359634879536577), (('W', 'K'), 0.0014890042761148442), (('G', 'C'), 0.0014847121050433813), (('D', 'C'), 0.0014701364813270725), (('F', 'W'), 0.0014179927524814874), (('T', 'N'), 0.001390604082564523), (('N', 'R'), 0.0013881844149603566), (('N', 'J'), 0.0013614885608265036), (('G', 'F'), 0.0013455203451955644), (('W', 'D'), 0.001336285888821014), (('X', 'Y'), 0.001328609388839681), (('Y', 'G'), 0.001326150020721094), (('H', 'L'), 0.0013224258826423914), (('L', 'B'), 0.0012612328551158758), (('Y', 'K'), 0.0012432656444260257), (('S', 'D'), 0.0012266855842274836), (('N', 'Q'), 0.001214661363090312), (('N', 'P'), 0.0012013134360233857), (('B', 'M'), 0.0011798017932987258), (('K', 'B'), 0.0011727912431587178), (('Y', 'N'), 0.0011603812681309574), (('L', 'G'), 0.001148622778766244), (('N', 'M'), 0.0011479217277556796), (('G', 'P'), 0.001113534078782536), (('A', 'H'), 0.0010816284261155732), (('F', 'P'), 0.0010634945643611155), (('N', 'X'), 0.0010544862382871939), (('K', 'M'), 0.0010424811050299713), (('K', 'U'), 0.0010424811050299713), (('F', 'G'), 0.0010241058767921853), (('F', 'B'), 0.0010241058767921853), (('G', 'B'), 0.0010207395722173246), (('T', 'B'), 0.0010066313134981994), (('W', 'T'), 0.0009926695174098962), (('F', 'D'), 0.000984717189223255), (('M', 'H'), 0.000966121344840912), (('A', 'O'), 0.0009435482015050745), (('P', 'M'), 0.0009406296685663697), (('S', 'G'), 0.000931098696461825), (('K', 'D'), 0.0009121709669012249), (('X', 'M'), 0.0008857395925597874), (('X', 'B'), 0.0008857395925597874), (('X', 'W'), 0.0008857395925597874), (('E', 'K'), 0.0008825806078231367), (('A', 'Z'), 0.0008630014038156169), (('H', 'W'), 0.0008457374830852503), (('T', 'P'), 0.0008198337501686367), (('I', 'I'), 0.0008060724121716934), (('F', 'J'), 0.000787773751378604), (('K', 'G'), 0.0007818608287724785), (('Q', ' '), 0.0007716049382716049), (('C', 'S'), 0.0007620568276662917), (('E', 'U'), 0.0007523637968328378), (('U', 'H'), 0.0007442026612687167), (('U', 'V'), 0.0007442026612687167), (('L', 'H'), 0.0007432265039075697), (('T', 'D'), 0.0007264349685038553), (('F', 'N'), 0.0007089963762407437), (('I', 'U'), 0.000698596090548801), (('O', 'X'), 0.0006935791032845085), (('U', 'O'), 0.0006846664483672193), (('S', 'R'), 0.0006650704974727321), (('I', 'H'), 0.0006582924699402163), (('U', 'W'), 0.0006548983419164707), (('Y', 'Y'), 0.0006216328222130128), (('W', 'M'), 0.0006108735491753207), (('J', 'D'), 0.0005899705014749262), (('J', 'S'), 0.0005899705014749262), (('J', 'I'), 0.0005899705014749262), (('J', ' '), 0.0005899705014749262), (('H', 'F'), 0.0005689506704391684), (('T', 'G'), 0.0005396374051742925), (('H', 'H'), 0.0005381965801451594), (('B', 'D'), 0.0005309108069844267), (('K', 'R'), 0.0005212405525149857), (('F', 'V'), 0.0005120529383960926), (('I', 'W'), 0.0005105125277087392), (('U', 'Z'), 0.0005060578096627273), (('D', 'J'), 0.0005046737174704875), (('P', 'G'), 0.000497980412770431), (('Y', 'V'), 0.0004558640696228761), (('U', 'K'), 0.00044652159676123), (('S', 'Q'), 0.0004433803316484881), (('X', 'N'), 0.0004428697962798937), (('M', 'C'), 0.0004186525827643952), (('E', 'J'), 0.00039788470024813534), (('I', 'Q'), 0.00038960166588298514), (('M', 'K'), 0.0003864485379363648), (('W', 'Y'), 0.00038179596823457546), (('H', 'C'), 0.0003690490835281092), (('U', 'X'), 0.00035721727740898403), (('M', 'W'), 0.0003542444931083344), (('H', 'D'), 0.00033829499323410016), (('W', 'P'), 0.00030543677458766036), (('W', 'C'), 0.00030543677458766036), (('S', 'V'), 0.0002808075433773758), (('P', 'F'), 0.0002766557848724617), (('M', 'D'), 0.0002576323586242432), (('C', 'P'), 0.0002540189425554306), (('A', 'A'), 0.000253147078452581), (('V', 'S'), 0.00025060563027316015), (('V', ' '), 0.00025060563027316015), (('M', 'V'), 0.0002254283137962128), (('D', 'Q'), 0.00021942335542195112), (('H', 'P'), 0.00021527863205806372), (('U', 'U'), 0.00020837674515524068), (('A', 'E'), 0.00020712033691574805), (('S', 'J'), 0.0002069108214359611), (('O', 'Z'), 0.00019984482637011263), (('G', 'Z'), 0.00018558901313042267), (('B', 'H'), 0.00017697026899480888), (('B', 'N'), 0.00017697026899480888), (('A', 'Q'), 0.00017260028076312338), (('V', 'H'), 0.00016707042018210676), (('V', 'M'), 0.00016707042018210676), (('T', 'V'), 0.000155664636107969), (('R', 'J'), 0.00015180496098612503), (('C', 'D'), 0.00014515368146024603), (('C', 'N'), 0.00014515368146024603), (('H', 'G'), 0.00013839340632304097), (('L', 'J'), 0.00013513209161955812), (('K', 'P'), 0.00013031013812874641), (('Y', 'J'), 0.00012432656444260256), (('H', 'V'), 0.00012301636117603641), (('U', 'Y'), 0.00011907242580299467), ((' ', 'X'), 0.00011862396204033214), (('B', 'V'), 0.00011798017932987259), (('A', 'J'), 0.00011506685384208226), (('W', 'G'), 0.00011453879047037264), (('P', 'N'), 0.00011066231394898467), (('P', 'C'), 0.00011066231394898467), (('P', 'D'), 0.00011066231394898467), (('D', 'K'), 0.00010971167771097556), (('C', 'F'), 0.00010886526109518453), (('T', 'K'), 0.00010377642407197933), (('M', 'G'), 9.66121344840912e-05), (('G', 'V'), 9.279450656521133e-05), (('G', 'Q'), 9.279450656521133e-05), (('H', 'Q'), 9.22622708820273e-05), (('V', 'R'), 8.353521009105338e-05), (('V', 'W'), 8.353521009105338e-05), (('V', 'T'), 8.353521009105338e-05), (('Y', 'Z'), 8.288437629506838e-05), (('F', 'K'), 7.877737513786041e-05), (('W', 'V'), 7.635919364691509e-05), (('W', 'U'), 7.635919364691509e-05), (('T', 'Q'), 7.264349685038553e-05), (('T', 'Z'), 7.264349685038553e-05), (('N', 'Z'), 6.673963533463253e-05), (('E', 'Z'), 6.510840549514942e-05), (('H', 'J'), 6.150818058801821e-05), (('U', 'J'), 5.9536212901497336e-05), (('B', 'P'), 5.899008966493629e-05), (('O', 'Q'), 5.8777890108856654e-05), (('P', 'Q'), 5.5331156974492333e-05), (('P', 'Z'), 5.5331156974492333e-05), (('P', 'V'), 5.5331156974492333e-05), (('T', 'J'), 5.1888212035989666e-05), ((' ', 'Z'), 5.083884087442806e-05), (('G', 'J'), 4.639725328260567e-05), (('G', 'K'), 4.639725328260567e-05), (('R', 'Q'), 4.554148829583751e-05), (('I', 'Y'), 4.030362060858467e-05), (('C', 'W'), 3.628842036506151e-05), (('C', 'M'), 3.628842036506151e-05), (('C', 'J'), 3.628842036506151e-05), (('C', 'B'), 3.628842036506151e-05), (('M', 'Q'), 3.22040448280304e-05), (('H', 'K'), 3.0754090294009104e-05), (('H', 'Z'), 1.5377045147004552e-05), (('I', 'J'), 1.3434540202861558e-05)]\n",
      "3928 WHEN IN THE COURSE OF HUMAN EVENTS IT BECOMES NECESSARY FOR ONE PEOPLE TO DISSOLVE THE POLITICAL BANDS WHICH HAVE CONNECTED THEM WITH ANOTHER AND TO ASSUME AMONG THE POWERS OF THE EARTH THE SEPARATE AND EQUAL STATION TO WHICH THE LAWS OF NATURE AND OF NATURES GOD ENTITLE THEM A DECENT RESPECT TO THE OPINIONS OF MANKIND REQUIRES THAT THEY SHOULD DECLARE THE CAUSES WHICH IMPEL THEM TO THE SEPARATION WE HOLD THESE TRUTHS TO BE SELFEVIDENT THAT ALL MEN ARE CREATED EQUAL THAT THEY ARE ENDOWED BY THEIR CREATOR WITH CERTAIN UNALIENABLE RIGHTS THAT AMONG THESE ARE LIFE LIBERTY AND THE PURSUIT OF HAPPINESS THAT TO SECURE THESE RIGHTS GOVERNMENTS ARE INSTITUTED AMONG MEN DERIVING THEIR JUST POWERS FROM THE CONSENT OF THE GOVERNED THAT WHENEVER ANY FORM OF GOVERNMENT BECOMES DESTRUCTIVE OF THESE ENDS IT IS THE RIGHT OF THE PEOPLE TO ALTER OR TO ABOLISH IT AND TO INSTITUTE NEW GOVERNMENT LAYING ITS FOUNDATION ON SUCH PRINCIPLES AND ORGANIZING ITS POWERS IN SUCH FORM AS TO THEM SHALL SEEM MOST LIKELY TO EFFECT THEIR SAFETY AND HAPPINESS PRUDENCE INDEED WILL DICTATE THAT GOVERNMENTS LONG ESTABLISHED SHOULD NOT BE CHANGED FOR LIGHT AND TRANSIENT CAUSES AND ACCORDINGLY ALL EXPERIENCE HATH SHOWN THAT MANKIND ARE MORE DISPOSED TO SUFFER WHILE EVILS ARE SUFFERABLE THAN TO RIGHT THEMSELVES BY ABOLISHING THE FORMS TO WHICH THEY ARE ACCUSTOMED BUT WHEN A LONG TRAIN OF ABUSES AND USURPATIONS PURSUING INVARIABLY THE SAME OBJECT EVINCES A DESIGN TO REDUCE THEM UNDER ABSOLUTE DESPOTISM IT IS THEIR RIGHT IT IS THEIR DUTY TO THROW OFF SUCH GOVERNMENT AND TO PROVIDE NEW GUARDS FOR THEIR FUTURE SECURITY SUCH HAS BEEN THE PATIENT SUFFERANCE OF THESE COLONIES AND SUCH IS NOW THE NECESSITY WHICH CONSTRAINS THEM TO ALTER THEIR FORMER SYSTEMS OF GOVERNMENT THE HISTORY OF THE PRESENT KING OF GREAT BRITAIN IS A HISTORY OF REPEATED INJURIES AND USURPATIONS ALL HAVING IN DIRECT OBJECT THE ESTABLISHMENT OF AN ABSOLUTE TYRANNY OVER THESE STATES TO PROVE THIS LET FACTS BE SUBMITTED TO A CANDID WORLD HE HAS REFUSED HIS ASSENT TO LAWS THE MOST WHOLESOME AND NECESSARY FOR THE PUBLIC GOOD HE HAS FORBIDDEN HIS GOVERNORS TO PASS LAWS OF IMMEDIATE AND PRESSING IMPORTANCE UNLESS SUSPENDED IN THEIR OPERATIONS TILL HIS ASSENT SHOULD BE OBTAINED AND WHEN SO SUSPENDED HE HAS UTTERLY NEGLECTED TO ATTEND TO THEM HE HAS REFUSED TO PASS OTHER LAWS FOR THE ACCOMMODATION OF LARGE DISTRICTS OF PEOPLE UNLESS THOSE PEOPLE WOULD RELINQUISH THE RIGHT OF REPRESENTATION IN THE LEGISLATURE A RIGHT INESTIMABLE TO THEM AND FORMIDABLE TO TYRANTS ONLY HE HAS CALLED TOGETHER LEGISLATIVE BODIES AT PLACES UNUSUAL UNCOMFORTABLE AND DISTANT FROM THE DEPOSITORY OF THEIR PUBLIC RECORDS FOR THE SOLE PURPOSE OF FATIGUING THEM INTO COMPLIANCE WITH HIS MEASURES HE HAS DISSOLVED REPRESENTATIVE HOUSES REPEATEDLY FOR OPPOSING WITH MANLY FIRMNESS HIS INVASIONS ON THE RIGHTS OF THE PEOPLE HE HAS REFUSED FOR A LONG TIME AFTER SUCH DISSOLUTIONS TO CAUSE OTHERS TO BE ELECTED WHEREBY THE LEGISLATIVE POWERS INCAPABLE OF ANNIHILATION HAVE RETURNED TO THE PEOPLE AT LARGE FOR THEIR EXERCISE THE STATE REMAINING IN THE MEANTIME EXPOSED TO ALL THE DANGERS OF INVASION FROM WITHOUT AND CONVULSIONS WITHIN HE HAS ENDEAVORED TO PREVENT THE POPULATION OF THESE STATES FOR THAT PURPOSE OBSTRUCTING THE LAWS FOR NATURALIZATION OF FOREIGNERS REFUSING TO PASS OTHERS TO ENCOURAGE THEIR MIGRATIONS HITHER AND RAISING THE CONDITIONS OF NEW APPROPRIATIONS OF LANDS HE HAS OBSTRUCTED THE ADMINISTRATION OF JUSTICE BY REFUSING HIS ASSENT TO LAWS FOR ESTABLISHING JUDICIARY POWERS HE HAS MADE JUDGES DEPENDENT ON HIS WILL ALONE FOR THE TENURE OF THEIR OFFICES AND THE AMOUNT AND PAYMENT OF THEIR SALARIES HE HAS ERECTED A MULTITUDE OF NEW OFFICES AND SENT HITHER SWARMS OF OFFICERS TO HARASS OUR PEOPLE AND EAT OUT THEIR SUBSTANCE HE HAS KEPT AMONG US IN TIMES OF PEACE STANDING ARMIES WITHOUT THE CONSENT OF OUR LEGISLATURES HE HAS AFFECTED TO RENDER THE MILITARY INDEPENDENT OF AND\n",
      "1964 WHEN IN THE COURSE OF HUMAN EVENTS IT BECOMES NECESSARY FOR ONE PEOPLE TO DISSOLVE THE POLITICAL BANDS WHICH HAVE CONNECTED THEM WITH ANOTHER AND TO ASSUME AMONG THE POWERS OF THE EARTH THE SEPARATE AND EQUAL STATION TO WHICH THE LAWS OF NATURE AND OF NATURES GOD ENTITLE THEM A DECENT RESPECT TO THE OPINIONS OF MANKIND REQUIRES THAT THEY SHOULD DECLARE THE CAUSES WHICH IMPEL THEM TO THE SEPARATION WE HOLD THESE TRUTHS TO BE SELFEVIDENT THAT ALL MEN ARE CREATED EQUAL THAT THEY ARE ENDOWED BY THEIR CREATOR WITH CERTAIN UNALIENABLE RIGHTS THAT AMONG THESE ARE LIFE LIBERTY AND THE PURSUIT OF HAPPINESS THAT TO SECURE THESE RIGHTS GOVERNMENTS ARE INSTITUTED AMONG MEN DERIVING THEIR JUST POWERS FROM THE CONSENT OF THE GOVERNED THAT WHENEVER ANY FORM OF GOVERNMENT BECOMES DESTRUCTIVE OF THESE ENDS IT IS THE RIGHT OF THE PEOPLE TO ALTER OR TO ABOLISH IT AND TO INSTITUTE NEW GOVERNMENT LAYING ITS FOUNDATION ON SUCH PRINCIPLES AND ORGANIZING ITS POWERS IN SUCH FORM AS TO THEM SHALL SEEM MOST LIKELY TO EFFECT THEIR SAFETY AND HAPPINESS PRUDENCE INDEED WILL DICTATE THAT GOVERNMENTS LONG ESTABLISHED SHOULD NOT BE CHANGED FOR LIGHT AND TRANSIENT CAUSES AND ACCORDINGLY ALL EXPERIENCE HATH SHOWN THAT MANKIND ARE MORE DISPOSED TO SUFFER WHILE EVILS ARE SUFFERABLE THAN TO RIGHT THEMSELVES BY ABOLISHING THE FORMS TO WHICH THEY ARE ACCUSTOMED BUT WHEN A LONG TRAIN OF ABUSES AND USURPATIONS PURSUING INVARIABLY THE SAME OBJECT EVINCES A DESIGN TO REDUCE THEM UNDER ABSOLUTE DESPOTISM IT IS THEIR RIGHT IT IS THEIR DUTY TO THROW OFF SUCH GOVERNMENT AND TO PROVIDE NEW GUARDS FOR THEIR FUTURE SECURITY SUCH HAS BEEN THE PATIENT SUFFERANCE OF THESE COLONIES AND SUCH IS NOW THE NECESSITY WHICH CONSTRAINS THEM TO ALTER THEIR FORMER SYSTEMS OF GOVERNMENT THE HISTORY OF THE PRESENT KING OF GREAT BRITAIN IS A HISTORY OF REPEATED INJURIES AND USURPATIONS ALL HAVING IN DIRECT OBJECT THE ESTABLISHMENT OF AN ABSOLUTE TYRANNY OVER THESE STATES TO PROVE THIS LET FACTS BE\n",
      "982 WHEN IN THE COURSE OF HUMAN EVENTS IT BECOMES NECESSARY FOR ONE PEOPLE TO DISSOLVE THE POLITICAL BANDS WHICH HAVE CONNECTED THEM WITH ANOTHER AND TO ASSUME AMONG THE POWERS OF THE EARTH THE SEPARATE AND EQUAL STATION TO WHICH THE LAWS OF NATURE AND OF NATURES GOD ENTITLE THEM A DECENT RESPECT TO THE OPINIONS OF MANKIND REQUIRES THAT THEY SHOULD DECLARE THE CAUSES WHICH IMPEL THEM TO THE SEPARATION WE HOLD THESE TRUTHS TO BE SELFEVIDENT THAT ALL MEN ARE CREATED EQUAL THAT THEY ARE ENDOWED BY THEIR CREATOR WITH CERTAIN UNALIENABLE RIGHTS THAT AMONG THESE ARE LIFE LIBERTY AND THE PURSUIT OF HAPPINESS THAT TO SECURE THESE RIGHTS GOVERNMENTS ARE INSTITUTED AMONG MEN DERIVING THEIR JUST POWERS FROM THE CONSENT OF THE GOVERNED THAT WHENEVER ANY FORM OF GOVERNMENT BECOMES DESTRUCTIVE OF THESE ENDS IT IS THE RIGHT OF THE PEOPLE TO ALTER OR TO ABOLISH IT AND TO INSTITUTE NEW GOVERNMENT LAYING ITS FOUNDATION ON SUCH PRINCIPLES AND ORGANIXING ITS POWERS IN SUCH FORM AS TO THEM SH\n",
      "491 WNER TR INE LOUMSE OF NUCAR EVERIS TI BELOCES RELESSAMP FOM ORE HEOHDE IO YTSSODVE INE HODTITLAD BARYS WNTLN NAVE LORRELIEY INEC WTIN AROINEM ARY IO ASSUCE ACORG INE HOWEMS OF INE EAMIN INE SEHAMAIE ARY EQUAD SIAITOR IO WNTLN INE DAWS OF RAIUME ARY OF RAIUMES GOY ERITIDE INEC A YELERI MESHELI IO INE OHTRTORS OF CARKTRY MEQUTMES INAI INEP SNOUDY YELDAME INE LAUSES WNTLN TCHED INEC IO INE SEHAMAITOR WE NODY INESE IMUINS IO BE SEDFEVTYERI INAI ADD CER AME LMEAIEY EQUAD INAI INEP AME ERYOWE\n",
      "245 WHEN IN THE COURSE OF HUMAN EVENTS IT BECOMES NECESSARY FOR ONE PEOPLE TO DISSOLVE THE POLITICAL BANDS WHICH HAVE CONNECTED THEM WITH ANOTHER AND TO ASSUME AMONG THE POWERS OF THE EARTH THE SEPARATE AND EQUAL STATION TO WHICH THE LAWS OF NATURE \n",
      "122 LDIT UT RDI NSOKEI SG DOFAT IMITRE UR WINSFIE TINIEEAKY GSK STI PISPHI RS BUEESHMI RDI PSHURUNAH WATBE LDUND DAMI NSTTINRI\n",
      "61 LWET CT OWE NGHARE GU WHIST EVETOR CO BENGIER TENERRSAD UGA G\n",
      "30 XTER PR ATE WIONDE IS TOFUR EB\n",
      "15 VERY MY HER WAD\n",
      "7 BLYO TO\n"
     ]
    }
   ],
   "source": [
    "fileNames = [\"emma.txt\", \"journey.txt\"]\n",
    "directory = \"data/\"\n",
    "pair_dict, text = get_pair_dict_and_text(directory, fileNames)\n",
    "\n",
    "convertToConditional(pair_dict, text)\n",
    "print(sorted(pair_dict.items(), key=lambda item:item[1], reverse=True))\n",
    "\n",
    "file_tag = open(\"encoded.txt\", \"r\")  # read in encoded message\n",
    "encoded_text = file_tag.read()\n",
    "\n",
    "curr_codebook = randomCodeBook()\n",
    "\n",
    "for i in range(10):\n",
    "    encoded_text = encoded_text[0:int(len(encoded_text)/2)]\n",
    "    run_mcmc(encoded_text,curr_codebook)\n",
    "    \n",
    "file_tag.close()\n",
    "\n",
    "\n"
   ]
  },
  {
   "cell_type": "markdown",
   "metadata": {},
   "source": [
    "$p(\\beta|\\alpha) = \\frac{p(\\alpha \\cap \\beta)}{p(\\beta)}$"
   ]
  }
 ],
 "metadata": {
  "kernelspec": {
   "display_name": "venv_math231",
   "language": "python",
   "name": "python3"
  },
  "language_info": {
   "codemirror_mode": {
    "name": "ipython",
    "version": 3
   },
   "file_extension": ".py",
   "mimetype": "text/x-python",
   "name": "python",
   "nbconvert_exporter": "python",
   "pygments_lexer": "ipython3",
   "version": "3.10.2"
  }
 },
 "nbformat": 4,
 "nbformat_minor": 2
}
